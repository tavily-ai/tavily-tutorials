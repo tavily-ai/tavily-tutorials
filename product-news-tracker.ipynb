{
 "cells": [
  {
   "cell_type": "code",
   "execution_count": null,
   "metadata": {},
   "outputs": [],
   "source": [
    "%pip install -q tavily-python python-dotenv ipykernel"
   ]
  },
  {
   "cell_type": "code",
   "execution_count": 2,
   "metadata": {},
   "outputs": [],
   "source": [
    "import getpass\n",
    "import os\n",
    "\n",
    "if not os.environ.get(\"TAVILY_API_KEY\"):\n",
    "    os.environ[\"TAVILY_API_KEY\"] = getpass.getpass(\"TAVILY_API_KEY:\\n\")\n",
    "\n",
    "TAVILY_API_KEY = os.getenv(\"TAVILY_API_KEY\")"
   ]
  },
  {
   "cell_type": "code",
   "execution_count": 3,
   "metadata": {},
   "outputs": [],
   "source": [
    "from tavily import TavilyClient\n",
    "\n",
    "tavily_client = TavilyClient()"
   ]
  },
  {
   "cell_type": "code",
   "execution_count": 4,
   "metadata": {},
   "outputs": [],
   "source": [
    "def search_product_updates(company_name: str, domains: list):\n",
    "    all_results = []\n",
    "\n",
    "    # Search for self-reported news\n",
    "    company_results = tavily_client.search(\n",
    "        query=f\"{company_name} product news, updates, releases, and announcements\",\n",
    "        search_depth=\"basic\",\n",
    "        max_results=10,\n",
    "        include_domains=domains,\n",
    "    )\n",
    "\n",
    "    for result in company_results[\"results\"]:\n",
    "        result[\"search_type\"] = \"Self-reported News\"\n",
    "        all_results.append(result)\n",
    "\n",
    "    # Search for third-party coverage\n",
    "    news_results = tavily_client.search(\n",
    "        query=f\"{company_name} product news, updates, releases, and announcements\",\n",
    "        search_depth=\"basic\",\n",
    "        max_results=10,\n",
    "        time_range=\"month\",\n",
    "        topic=\"news\",\n",
    "    )\n",
    "\n",
    "    for result in news_results[\"results\"]:\n",
    "        result[\"search_type\"] = \"Third-party Coverage\"\n",
    "        all_results.append(result)\n",
    "\n",
    "    return all_results"
   ]
  },
  {
   "cell_type": "code",
   "execution_count": null,
   "metadata": {},
   "outputs": [],
   "source": [
    "product_updates = search_product_updates(\"OpenAI\", [\"openai.com\"])\n",
    "\n",
    "product_updates"
   ]
  },
  {
   "cell_type": "code",
   "execution_count": 7,
   "metadata": {},
   "outputs": [],
   "source": [
    "import json\n",
    "\n",
    "\n",
    "def save_results_to_json(results, company_name, file_type):\n",
    "    \"\"\"Save results to a JSON file with dynamic naming\n",
    "\n",
    "    Args:\n",
    "        results: The results to save\n",
    "        company_name: Name of the company\n",
    "        file_type: Type of file to save (default: 'news_updates', can be 'filtered_news_updates', etc.)\n",
    "\n",
    "    Returns:\n",
    "        The name of the output file\n",
    "    \"\"\"\n",
    "    output_file = f\"{company_name}_{file_type}.json\"\n",
    "    with open(output_file, \"w\", encoding=\"utf-8\") as f:\n",
    "        json.dump(results, f, indent=2, ensure_ascii=False)\n",
    "    print(f\"Results saved to {output_file}\")\n",
    "    return output_file"
   ]
  },
  {
   "cell_type": "code",
   "execution_count": null,
   "metadata": {},
   "outputs": [],
   "source": [
    "save_results_to_json(product_updates, \"OpenAI\", \"product_updates\")"
   ]
  }
 ],
 "metadata": {
  "kernelspec": {
   "display_name": "Python 3",
   "language": "python",
   "name": "python3"
  },
  "language_info": {
   "codemirror_mode": {
    "name": "ipython",
    "version": 3
   },
   "file_extension": ".py",
   "mimetype": "text/x-python",
   "name": "python",
   "nbconvert_exporter": "python",
   "pygments_lexer": "ipython3",
   "version": "3.11.11"
  }
 },
 "nbformat": 4,
 "nbformat_minor": 2
}
