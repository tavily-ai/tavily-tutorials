{
 "cells": [
  {
   "cell_type": "code",
   "execution_count": 1,
   "metadata": {},
   "outputs": [
    {
     "name": "stdout",
     "output_type": "stream",
     "text": [
      "\n",
      "\u001b[1m[\u001b[0m\u001b[34;49mnotice\u001b[0m\u001b[1;39;49m]\u001b[0m\u001b[39;49m A new release of pip is available: \u001b[0m\u001b[31;49m24.3.1\u001b[0m\u001b[39;49m -> \u001b[0m\u001b[32;49m25.0.1\u001b[0m\n",
      "\u001b[1m[\u001b[0m\u001b[34;49mnotice\u001b[0m\u001b[1;39;49m]\u001b[0m\u001b[39;49m To update, run: \u001b[0m\u001b[32;49mpython3.11 -m pip install --upgrade pip\u001b[0m\n",
      "Note: you may need to restart the kernel to use updated packages.\n"
     ]
    }
   ],
   "source": [
    "%pip install -q tavily-python python-dotenv ipykernel"
   ]
  },
  {
   "cell_type": "code",
   "execution_count": 2,
   "metadata": {},
   "outputs": [],
   "source": [
    "import getpass\n",
    "import os\n",
    "\n",
    "if not os.environ.get(\"TAVILY_API_KEY\"):\n",
    "    os.environ[\"TAVILY_API_KEY\"] = getpass.getpass(\"TAVILY_API_KEY:\\n\")\n",
    "\n",
    "TAVILY_API_KEY = os.getenv(\"TAVILY_API_KEY\")"
   ]
  },
  {
   "cell_type": "code",
   "execution_count": 3,
   "metadata": {},
   "outputs": [],
   "source": [
    "from tavily import TavilyClient\n",
    "\n",
    "tavily_client = TavilyClient()"
   ]
  },
  {
   "cell_type": "code",
   "execution_count": 4,
   "metadata": {},
   "outputs": [],
   "source": [
    "def search_product_updates(company_name: str, domains: list):\n",
    "    all_results = []\n",
    "    \n",
    "    # Search for self-reported news\n",
    "    company_results = tavily_client.search(\n",
    "        query=f\"{company_name} product news, updates, releases, and announcements\",\n",
    "        search_depth=\"basic\",\n",
    "        max_results=10,\n",
    "        include_domains=domains\n",
    "    )\n",
    "    \n",
    "    for result in company_results[\"results\"]:\n",
    "        result[\"search_type\"] = \"Self-reported News\"\n",
    "        all_results.append(result)\n",
    "\n",
    "    \n",
    "    # Search for third-party coverage\n",
    "    news_results = tavily_client.search(\n",
    "        query=f\"{company_name} product news, updates, releases, and announcements\",\n",
    "        search_depth=\"basic\",\n",
    "        max_results=10,\n",
    "        time_range=\"month\",\n",
    "        topic=\"news\"\n",
    "    )\n",
    "    \n",
    "    for result in news_results[\"results\"]:\n",
    "        result[\"search_type\"] = \"Third-party Coverage\"\n",
    "        all_results.append(result)\n",
    "\n",
    "    return all_results"
   ]
  },
  {
   "cell_type": "code",
   "execution_count": 6,
   "metadata": {},
   "outputs": [
    {
     "data": {
      "text/plain": [
       "[{'title': 'New embedding models and API updates - Announcements - OpenAI Developer ...',\n",
       "  'url': 'https://community.openai.com/t/new-embedding-models-and-api-updates/610540',\n",
       "  'content': 'We are releasing new models, reducing prices for GPT-3.5 Turbo, and introducing new ways for developers to manage API keys and understand API usage. The new models include: Two new embedding models An updated GPT-4 Turbo preview model An updated GPT-3.5 Turbo model An updated text moderation model By default, data sent to the OpenAI API will not be used to train or improve OpenAI models. All',\n",
       "  'score': 0.752468,\n",
       "  'raw_content': None,\n",
       "  'search_type': 'Self-reported News'},\n",
       " {'title': 'OpenAI News',\n",
       "  'url': 'https://openai.com/newsroom/',\n",
       "  'content': 'ChatGPT(opens in a new window) Sora(opens in a new window) API Platform(opens in a new window) Research Research Research Overview OpenAI o3-mini OpenAI o1 OpenAI o1-mini Sora log in(opens in a new window) API Log in(opens in a new window) Documentation(opens in a new window) Research Introducing deep research ResearchFeb 2, 2025 Introducing the Intelligence Age Global AffairsFeb 9, 2025 OpenAI GPT-4.5 System Card PublicationFeb 27, 2025 Disrupting malicious uses of AI Global AffairsFeb 21, 2025 OpenAI and Guardian Media Group launch content partnership CompanyFeb 14, 2025 OpenAI o3-mini ReleaseJan 31, 2025 Research Our Research Research Overview OpenAI o1 OpenAI o1-mini Sora log in(opens in a new window) API log in(opens in a new window) Documentation(opens in a new window)',\n",
       "  'score': 0.7368747,\n",
       "  'raw_content': None,\n",
       "  'search_type': 'Self-reported News'},\n",
       " {'title': 'Day 8 of Shipmas: The deliveries continue - Community - OpenAI ...',\n",
       "  'url': 'https://community.openai.com/t/day-8-of-shipmas-the-deliveries-continue/1057152',\n",
       "  'content': \"Here are the videos of the previous announcements and a link to the comprehensive FAQ: 12 Days of OpenAI - Release Updates. Day 7: Projects and Folders for ChatGPT; Day 6: Multimodal Advanced Voice Mode and Santa Mode; Day 5: Apple Intelligence; Day 4: Updates to ChatGPT's Canvas; Day 3: Release of Sora-Turbo; Day 2: Reinforcement Fine-Tuning\",\n",
       "  'score': 0.7004242,\n",
       "  'raw_content': None,\n",
       "  'search_type': 'Self-reported News'},\n",
       " {'title': 'News - OpenAI',\n",
       "  'url': 'https://openai.com/news/',\n",
       "  'content': 'ChatGPT(opens in a new window) Sora(opens in a new window) API Platform(opens in a new window) Research Research Overview OpenAI o3-mini OpenAI o1 OpenAI o1-mini GPT-4o Help center(opens in a new window) Sora log in(opens in a new window) API Log in(opens in a new window) Documentation(opens in a new window) Developer Forum(opens in a new window) OpenAI OpenAI GPT-4.5 System Card PublicationFeb 27, 2025 Disrupting malicious uses of AI Global AffairsFeb 21, 2025 OpenAI o3-mini ReleaseJan 31, 2025 Research Overview OpenAI o1 OpenAI o1-mini GPT-4o Sora log in(opens in a new window) API log in(opens in a new window) Documentation(opens in a new window) Developer Forum(opens in a new window) Help Center(opens in a new window) Terms & Policies',\n",
       "  'score': 0.69795954,\n",
       "  'raw_content': None,\n",
       "  'search_type': 'Self-reported News'},\n",
       " {'title': 'AI Pulse News Roundup (February 2025 Edition) - Community - OpenAI ...',\n",
       "  'url': 'https://community.openai.com/t/ai-pulse-news-roundup-february-2025-edition/1109121',\n",
       "  'content': 'AI Pulse News Roundup (February 2025 Edition) - Community - OpenAI Developer Community AI Pulse News Roundup (February 2025 Edition) Welcome to the February 2025 AI Pulse News Roundup Thread! Post breaking news about AI research, applications, policies, product launches, ethical debates, and more. AI2 has introduced Tülu 3 405B, an open-source model that surpasses the performance of DeepSeek V3 and GPT-4o on certain benchmarks. The U.S. Copyright Office reaffirmed that AI-assisted tools do not undermine copyright protection when used to support human creativity. | AI Pulse News Roundup (January 2025 Edition) | AI Pulse News Roundup (December 2024 Edition) | AI Pulse Edition #3: Latest AI News Updates for the Developer Community | AI Pulse Edition #7: Latest AI News Updates for the Developer Community',\n",
       "  'score': 0.6899958,\n",
       "  'raw_content': None,\n",
       "  'search_type': 'Self-reported News'},\n",
       " {'title': 'OpenAI Newsroom | Product',\n",
       "  'url': 'https://openai.com/news/product/',\n",
       "  'content': 'ChatGPT(opens in a new window) Sora(opens in a new window) Platform(opens in a new window) Research Overview OpenAI o3-mini OpenAI o1 Help center(opens in a new window) Sora login(opens in a new window) API Login(opens in a new window) Documentation(opens in a new window) Developer Forum(opens in a new window) Introducing data residency in Europe ProductFeb 5, 2025 Introducing Operator ProductJan 23, 2025 OpenAI o1 and new tools for developers ProductDec 17, 2024Your browser does not support the video tag. Research Overview OpenAI o1 Help Center(opens in a new window) Sora login(opens in a new window) API login(opens in a new window) Documentation(opens in a new window) Developer Forum(opens in a new window) Terms & Policies Privacy Policy Other Policies',\n",
       "  'score': 0.6889923,\n",
       "  'raw_content': None,\n",
       "  'search_type': 'Self-reported News'},\n",
       " {'title': 'OpenAI Newsroom | Product',\n",
       "  'url': 'https://openai.com/news/product-releases/',\n",
       "  'content': 'ChatGPT(opens in a new window) Sora(opens in a new window) API Platform(opens in a new window) Research Overview OpenAI o1 Help center(opens in a new window) Sora log in(opens in a new window) API Log in(opens in a new window) Documentation(opens in a new window) Developer Forum(opens in a new window) OpenAI o1 and new tools for developers ProductDec 17, 2024 Introducing ChatGPT search ProductOct 31, 2024 Introducing canvas, a new way to write and code with ChatGPT. Research Overview OpenAI o1 Sora log in(opens in a new window) API log in(opens in a new window) Documentation(opens in a new window) Developer Forum(opens in a new window) Help Center(opens in a new window) Terms & Policies Privacy Policy Other Policies',\n",
       "  'score': 0.65940565,\n",
       "  'raw_content': None,\n",
       "  'search_type': 'Self-reported News'},\n",
       " {'title': 'AI Pulse Edition #7: Latest AI News Updates for the Developer Community',\n",
       "  'url': 'https://community.openai.com/t/ai-pulse-edition-7-latest-ai-news-updates-for-the-developer-community/1033243',\n",
       "  'content': 'Innovations in AI and robotics are enabling breakthroughs like autonomous surgical systems, task automation tools, and financial workflows powered by LLMs. While these advancements promise improved precision, efficiency, and accessibility, they also highlight challenges in security, ethical considerations, and the need for rigorous safety testing as AI becomes more capable and integrated into daily life. Meanwhile, OpenAI is exploring a browser project to challenge Google’s dominance, even as Google faces antitrust scrutiny over its AI and search partnerships, including its $2 billion investment in Anthropic. OpenAI and Common Sense Media have introduced a free, one-hour course to help K-12 educators responsibly adopt AI in their classrooms, covering ethics, data privacy, and practical uses for tools like ChatGPT.',\n",
       "  'score': 0.6461259,\n",
       "  'raw_content': None,\n",
       "  'search_type': 'Self-reported News'},\n",
       " {'title': 'Announcements - OpenAI Developer Community',\n",
       "  'url': 'https://community.openai.com/c/announcements/6',\n",
       "  'content': 'Latest Announcements topics - OpenAI Developer Community Skip to main content Docs API Support Sign Up Log In \\u200b Announcements Official updates related to OpenAI, the API, ChatGPT, and more! Topics More Resources Documentation API reference Help center Categories Announcements API Prompting Documentation Plugins / Actions builders All categories Tags chatgpt gpt-4 api lost-user assistants-api All tags Light mode \\u200b \\u200b Welcome to the OpenAI Developer Forum! | Topic | Posters | Replies | Views | Activity | | --- | --- | --- | --- | --- | | OpenAI API Status page: https://status.openai.com/ For updates on incidents, see the OpenAI API status page: https://status.openai.com/ | | 0 | 25.9k | Mar 2021 | | About the Announcements category Official updates related to OpenAI, the API, ChatGPT, and more! Posts are created by the OpenAI staff.',\n",
       "  'score': 0.63452125,\n",
       "  'raw_content': None,\n",
       "  'search_type': 'Self-reported News'},\n",
       " {'title': 'New models and developer products announced at DevDay - OpenAI',\n",
       "  'url': 'https://openai.com/index/new-models-and-developer-products-announced-at-devday/',\n",
       "  'content': 'GPT-4 Turbo with 128K context and lower prices, the new Assistants API, GPT-4 Turbo with Vision, DALL·E 3 API, and more. New GPT-4 Turbo model that is more capable, cheaper and supports a 128K context window Today we’re launching a preview of the next generation of this model, GPT-4 Turbo\\u2060(opens in a new window). Developers can access this new model by calling gpt-3.5-turbo-1106 in the API. As quality and safety for GPT-4 fine-tuning improves, developers actively using GPT-3.5 fine-tuning will be presented with an option to apply to the GPT-4 program within their fine-tuning console\\u2060(opens in a new window). Fine-tuning also supports 16K context at the same price as 4K with the new GPT-3.5 Turbo model. These new prices also apply to fine-tuned gpt-3.5-turbo-0613 models.',\n",
       "  'score': 0.63234437,\n",
       "  'raw_content': None,\n",
       "  'search_type': 'Self-reported News'},\n",
       " {'url': 'https://www.govtech.com/education/higher-ed/openai-announces-nextgenai-higher-ed-consortium',\n",
       "  'title': \"OpenAI Announces 'NextGenAI' Higher-Ed Consortium - Government Technology\",\n",
       "  'score': 0.7306941,\n",
       "  'published_date': 'Tue, 04 Mar 2025 19:47:25 GMT',\n",
       "  'content': 'Published Time: March 04, 2025 Cybersecurity Lohrmann on Cybersecurity Emerging Tech Emergency Management Cybersecurity Lohrmann on Cybersecurity Emerging Tech Emergency Management Higher Education March 04, 2025\\xa0•\\xa0 OpenAI on Tuesday announced NextGenAI, hailing it as \"first-of-its-kind consortium\" and committing $50 million for research grants, computer funding and more \"for students, educators, and researchers advancing the frontiers of knowledge ... \"Working with OpenAI provides a special opportunity to collaborate with researchers producing some of the most influential AI developments today and gain access to leading edge models and tools,\" said Michael Wellman, a UM professor of computer science and engineering and principal investigator for the partnership. Distributed by Tribune Content Agency, LLC. e.Republic LLC',\n",
       "  'search_type': 'Third-party Coverage'},\n",
       " {'url': 'https://www.scmp.com/tech/big-tech/article/3300459/openai-releases-long-awaited-gpt-45-model-pro-subscribers-competition-heightens',\n",
       "  'title': 'OpenAI releases long-awaited GPT-4.5 model for Pro subscribers - Post Magazine',\n",
       "  'score': 0.71687365,\n",
       "  'published_date': 'Fri, 28 Feb 2025 02:00:54 GMT',\n",
       "  'content': 'Published Time: 2025-02-28T10:00:54+08:00 OpenAI releases long-awaited GPT-4.5 model for Pro subscribers as competition heightens | South China Morning Post OpenAI releases long-awaited GPT-4.5 model for Pro subscribers as competition heightens Reading Time:2 minutes Published: 10:00am, 28 Feb 2025 OpenAI also expects the new model to make things up less often than its prior software. At first, OpenAI is offering the model as a “research preview” to a limited group of software developers and users who pay US$200 a month for a ChatGPT Pro subscription. OpenAI kicked off a frenzy around generative AI in late 2022 with the launch of ChatGPT, which was originally powered by an earlier model called GPT-3.5.',\n",
       "  'search_type': 'Third-party Coverage'},\n",
       " {'url': 'https://techcrunch.com/2025/03/11/openai-launches-new-tools-to-help-businesses-build-ai-agents/',\n",
       "  'title': 'OpenAI launches new tools to help businesses build AI agents - TechCrunch',\n",
       "  'score': 0.70847535,\n",
       "  'published_date': 'Tue, 11 Mar 2025 17:00:00 GMT',\n",
       "  'content': 'OpenAI launches new tools to help businesses build AI agents | TechCrunch OpenAI launches new tools to help businesses build AI agents | TechCrunch On Tuesday, OpenAI released new tools designed to help developers and enterprises build AI agents – automated systems that can independently accomplish tasks – using the company’s own AI models and frameworks. The tools are part of OpenAI’s new Responses API, which lets businesses develop custom AI agents that can perform web searches, scan through company files, and navigate websites, much like OpenAI’s Operator product. Using the Responses API, developers can tap the same AI models (in preview) under the hood of OpenAI’s ChatGPT Search web search tool: GPT-4o search and GPT-4o mini search.',\n",
       "  'search_type': 'Third-party Coverage'},\n",
       " {'url': 'https://www.bloomberg.com/news/articles/2025-02-27/openai-releases-gpt-4-5-model-aimed-at-better-writing-and-coding?srnd=phx-technology',\n",
       "  'title': 'OpenAI Releases GPT-4.5 Model Aimed at Better Writing and Coding - Bloomberg',\n",
       "  'score': 0.62852204,\n",
       "  'published_date': 'Thu, 27 Feb 2025 20:00:07 GMT',\n",
       "  'content': 'OpenAI Releases GPT-4.5 Model Aimed at Better Writing and Coding - Bloomberg Bloomberg Tech At Bloomberg Bloomberg Terminal Bloomberg Markets Bloomberg Technology Bloomberg Politics Bloomberg Opinion Bloomberg Businessweek Tech At Bloomberg Bloomberg Terminal Bloomberg Markets Bloomberg Technology Bloomberg Politics Bloomberg Opinion Bloomberg Businessweek Bloomberg Nick Ryder, a vice president of research at OpenAI, told Bloomberg News that he expects GPT-4.5 to represent as big a jump in capabilities from its existing top-of-the-line GPT model as the company saw from GPT-3.5 to GPT-4, which came out in early 2023. The model, referred to as Orion inside the company, did not hit OpenAI’s desired performance benchmarks last year, Bloomberg News previously reported.',\n",
       "  'search_type': 'Third-party Coverage'},\n",
       " {'url': 'https://www.bloomberg.com/news/articles/2025-02-27/openai-releases-gpt-4-5-model-aimed-at-better-writing-and-coding',\n",
       "  'title': 'OpenAI Releases GPT-4.5 Model Aimed at Better Writing and Coding - Bloomberg',\n",
       "  'score': 0.62852204,\n",
       "  'published_date': 'Thu, 27 Feb 2025 20:00:07 GMT',\n",
       "  'content': 'OpenAI Releases GPT-4.5 Model Aimed at Better Writing and Coding - Bloomberg Bloomberg Tech At Bloomberg Bloomberg Terminal Bloomberg Markets Bloomberg Technology Bloomberg Politics Bloomberg Opinion Bloomberg Businessweek Tech At Bloomberg Bloomberg Terminal Bloomberg Markets Bloomberg Technology Bloomberg Politics Bloomberg Opinion Bloomberg Businessweek Bloomberg Nick Ryder, a vice president of research at OpenAI, told Bloomberg News that he expects GPT-4.5 to represent as big a jump in capabilities from its existing top-of-the-line GPT model as the company saw from GPT-3.5 to GPT-4, which came out in early 2023. The model, referred to as Orion inside the company, did not hit OpenAI’s desired performance benchmarks last year, Bloomberg News previously reported.',\n",
       "  'search_type': 'Third-party Coverage'},\n",
       " {'url': 'https://www.businessinsider.com/openai-sam-altman-releases-gpt-4-5-emotionally-intelligent-model-2025-2',\n",
       "  'title': \"Sam Altman says OpenAI's new ChatGPT-4.5 is a more emotionally intelligent model but warns that it's 'expensive' to train and run - Business Insider\",\n",
       "  'score': 0.61972505,\n",
       "  'published_date': 'Thu, 27 Feb 2025 21:33:00 GMT',\n",
       "  'content': 'OpenAI Releases GPT-4.5, an Emotionally Intelligent Model - Business Insider Best Credit Cards Best Travel Credit Cards Best First Credit Cards Best Business Credit Cards Sam Altman says OpenAI\\'s new ChatGPT-4.5 is a more emotionally intelligent model but warns that it\\'s \\'expensive\\' to train and run OpenAI showcased its latest, and most powerful model, GPT-4.5 during a livestream on Thursday. OpenAI tested GPT-4.5 against 4o, a multimodal model it released in May, on \"vibes\" test set that measures creative intelligence and emotional intelligence. The model\\'s \"knowledge base, stronger alignment with user intent, and improved emotional intelligence make it well-suited for tasks like writing, programming, and solving practical problems\" OpenAI said in the GPT-4.5 System Card published on Thursday.',\n",
       "  'search_type': 'Third-party Coverage'},\n",
       " {'url': 'https://www.eweek.com/news/openai-coreweave-ai-deal/',\n",
       "  'title': '$11.9B AI Deal: Altman Calls CoreWeave ‘An Important Addition’ to OpenAI - eWeek',\n",
       "  'score': 0.604703,\n",
       "  'published_date': 'Tue, 11 Mar 2025 22:29:59 GMT',\n",
       "  'content': \"Published Time: 2025-03-11T22:29:59+00:00 $11.9B Deal: Altman Calls CoreWeave 'An Important Addition' to OpenAI Latest News Search Engines your password your email Search  Latest News Search Engines Search $11.9B AI Deal: Altman Calls CoreWeave ‘An Important Addition’ to OpenAI Published March 11, 2025 CoreWeave’s IPO filing is already generating buzz. Aminu Abdullahi is an experienced B2B technology and finance writer and award-winning public speaker. Get the Free Newsletter! Email Address  Subscribe Get the Free Newsletter! Email Address  Subscribe RingCentral adds AI-enabled contact center and hybrid event products to its suite of collaboration services. Latest News eWeek has the latest technology news and analysis, buying guides, and product reviews for IT professionals and technology buyers. Subscribe to our Newsletter Latest News\",\n",
       "  'search_type': 'Third-party Coverage'},\n",
       " {'url': 'https://www.reuters.com/technology/artificial-intelligence/openai-launches-new-developer-tools-chinese-ai-startups-gain-ground-2025-03-11/',\n",
       "  'title': 'OpenAI launches new developer tools as Chinese AI startups gain ground - Reuters',\n",
       "  'score': 0.6016175,\n",
       "  'published_date': 'Tue, 11 Mar 2025 18:20:06 GMT',\n",
       "  'content': 'REUTERS/Dado Ruvic/Illustration/File Photo Purchase Licensing Rights, opens new tab March 11 (Reuters) - OpenAI launched new tools for developers on Tuesday that will help them build advanced AI agents, using a few application programming interfaces (APIs), amid growing competition from Chinese AI startups. Our Standards: The Thomson Reuters Trust Principles., opens new tab Artificial Intelligencecategory · March 11, 2025 · 6:42 PM UTC · 8 min agoOpenAI launched new tools for developers on Tuesday that will help them build advanced AI agents, using a few application programming interfaces (APIs), amid growing competition from Chinese AI startups. About Reuters, opens new tab Reuters News Agency, opens new tab Reuters and AI, opens new tab Reuters Leadership, opens new tab Reuters Diversity Report, opens new tab',\n",
       "  'search_type': 'Third-party Coverage'},\n",
       " {'url': 'https://www.tweaktown.com/news/103711/openais-ai-agent-workforce-is-coming-who-will-keep-their-job/index.html',\n",
       "  'title': \"OpenAI's AI agent workforce is coming - who will keep their job? - TweakTown\",\n",
       "  'score': 0.5533369,\n",
       "  'published_date': 'Thu, 06 Mar 2025 11:31:03 GMT',\n",
       "  'content': \"OpenAI is reportedly working on releasing specialized AI agents for professions, which may cost a fraction of what a human would charge monthly. Popular Now: NVIDIA GeForce RTX 4090 with upgraded 96GB VRAM teased: could release soon for AI workloadsIt's unclear when these AI agents will be released or if the aforementioned prices are set in stone, but SoftBank, an OpenAI investor, has committed to spending as much as $3 billion on OpenAI agent products in 2025. Jak joined the TweakTown team in 2017 and has since reviewed 100s of new tech products and kept us informed daily on the latest science, space, and artificial intelligence news.\",\n",
       "  'search_type': 'Third-party Coverage'},\n",
       " {'url': 'https://techcrunch.com/2025/03/04/openai-launches-50m-grant-program-to-help-fund-academic-research/',\n",
       "  'title': 'OpenAI launches $50M grant program to help fund academic research - TechCrunch',\n",
       "  'score': 0.5373576,\n",
       "  'published_date': 'Tue, 04 Mar 2025 14:30:23 GMT',\n",
       "  'content': \"OpenAI launches $50M grant program to help fund academic research | TechCrunch OpenAI launches $50M grant program to help fund academic research | TechCrunch More from TechCrunch NextGenAI, which OpenAI is positioning as an expanded commitment to education, following the launch of its ChatGPT Edu product for universities last May, comes at a precarious time for AI research grants in the U.S. In recent weeks, the Trump Administration has reportedly fired a number of National Science Foundation employees who had been handpicked for their expertise in AI, threatening the agency’s ability to sustain key AI work. TechCrunch AI TechCrunch's AI experts cover the latest news in the fast-moving field. Latest in AI TechCrunch\",\n",
       "  'search_type': 'Third-party Coverage'}]"
      ]
     },
     "execution_count": 6,
     "metadata": {},
     "output_type": "execute_result"
    }
   ],
   "source": [
    "product_updates = search_product_updates(\n",
    "        \"OpenAI\", [\"openai.com\"]\n",
    "    )\n",
    "\n",
    "product_updates"
   ]
  },
  {
   "cell_type": "code",
   "execution_count": 7,
   "metadata": {},
   "outputs": [],
   "source": [
    "import json\n",
    "def save_results_to_json(results, company_name, file_type):\n",
    "    \"\"\"Save results to a JSON file with dynamic naming\n",
    "\n",
    "    Args:\n",
    "        results: The results to save\n",
    "        company_name: Name of the company\n",
    "        file_type: Type of file to save (default: 'news_updates', can be 'filtered_news_updates', etc.)\n",
    "\n",
    "    Returns:\n",
    "        The name of the output file\n",
    "    \"\"\"\n",
    "    output_file = f\"{company_name}_{file_type}.json\"\n",
    "    with open(output_file, \"w\", encoding=\"utf-8\") as f:\n",
    "        json.dump(results, f, indent=2, ensure_ascii=False)\n",
    "    print(f\"Results saved to {output_file}\")\n",
    "    return output_file"
   ]
  },
  {
   "cell_type": "code",
   "execution_count": 8,
   "metadata": {},
   "outputs": [
    {
     "name": "stdout",
     "output_type": "stream",
     "text": [
      "Results saved to OpenAI_product_updates.json\n"
     ]
    },
    {
     "data": {
      "text/plain": [
       "'OpenAI_product_updates.json'"
      ]
     },
     "execution_count": 8,
     "metadata": {},
     "output_type": "execute_result"
    }
   ],
   "source": [
    "save_results_to_json(product_updates, \"OpenAI\", \"product_updates\")"
   ]
  },
  {
   "cell_type": "code",
   "execution_count": null,
   "metadata": {},
   "outputs": [],
   "source": []
  }
 ],
 "metadata": {
  "kernelspec": {
   "display_name": "Python 3",
   "language": "python",
   "name": "python3"
  },
  "language_info": {
   "codemirror_mode": {
    "name": "ipython",
    "version": 3
   },
   "file_extension": ".py",
   "mimetype": "text/x-python",
   "name": "python",
   "nbconvert_exporter": "python",
   "pygments_lexer": "ipython3",
   "version": "3.11.11"
  }
 },
 "nbformat": 4,
 "nbformat_minor": 2
}
