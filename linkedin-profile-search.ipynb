{
 "cells": [
  {
   "cell_type": "code",
   "execution_count": null,
   "metadata": {},
   "outputs": [],
   "source": [
    "%pip install -q tavily-python python-dotenv ipykernel"
   ]
  },
  {
   "cell_type": "code",
   "execution_count": 10,
   "metadata": {},
   "outputs": [],
   "source": [
    "import getpass\n",
    "import os\n",
    "\n",
    "if not os.environ.get(\"TAVILY_API_KEY\"):\n",
    "    os.environ[\"TAVILY_API_KEY\"] = getpass.getpass(\"TAVILY_API_KEY:\\n\")\n",
    "\n",
    "TAVILY_API_KEY = os.getenv(\"TAVILY_API_KEY\")\n"
   ]
  },
  {
   "cell_type": "code",
   "execution_count": 11,
   "metadata": {},
   "outputs": [],
   "source": [
    "from tavily import TavilyClient\n",
    "\n",
    "tavily_client = TavilyClient()"
   ]
  },
  {
   "cell_type": "code",
   "execution_count": 12,
   "metadata": {},
   "outputs": [],
   "source": [
    "response = tavily_client.search(\n",
    "    query=\"Who are the C-Suite employees at OpenAI?\",\n",
    "    search_depth=\"advanced\",\n",
    "    include_answer=\"advanced\",\n",
    "    include_raw_content=True,\n",
    "    include_domains=[\"linkedin.com/in\"],\n",
    "    max_results=10,\n",
    ")"
   ]
  },
  {
   "cell_type": "code",
   "execution_count": null,
   "metadata": {},
   "outputs": [],
   "source": [
    "response"
   ]
  },
  {
   "cell_type": "code",
   "execution_count": 25,
   "metadata": {},
   "outputs": [],
   "source": [
    "import re\n",
    "\n",
    "def extract_profile_data(raw_content):\n",
    "    # Check if raw_content is None or empty\n",
    "    if raw_content is None or raw_content.strip() == \"\":\n",
    "        return {\n",
    "            \"location\": None,\n",
    "            \"education\": [],\n",
    "            \"skills\": [],\n",
    "            \"work_experience\": []\n",
    "        }\n",
    "    \n",
    "    profile_data = {\n",
    "        \"location\": None,\n",
    "        \"education\": [],\n",
    "        \"skills\": [],\n",
    "        \"work_experience\": []\n",
    "    }\n",
    "\n",
    "    # Extract Location\n",
    "    location_match = re.search(r\"\\n(.*?)\\n\\d+ connections\", raw_content)\n",
    "    if location_match:\n",
    "        profile_data[\"location\"] = location_match.group(1).strip()\n",
    "\n",
    "    # Extract Work Experience Section\n",
    "    experience_match = re.search(r'Experience:\\n(.*?)\\n\\nEducation:', raw_content, re.DOTALL)\n",
    "    if experience_match:\n",
    "        experience_text = experience_match.group(1)\n",
    "\n",
    "        # Extract Company Names and Date Ranges\n",
    "        experience_entries = re.findall(r'(.+?) \\(https://www\\.linkedin\\.com/company/.*?\\)\\n(.*?)\\n', experience_text)\n",
    "\n",
    "        for company, date_range in experience_entries:\n",
    "            profile_data[\"work_experience\"].append({\n",
    "                \"company\": company.strip(),\n",
    "                \"date_range\": date_range.strip()\n",
    "            })\n",
    "\n",
    "    # Extract Education\n",
    "    education_match = re.search(r'Education:\\n(.*?)\\n\\nSkills:', raw_content, re.DOTALL)\n",
    "    if education_match:\n",
    "        education_text = education_match.group(1)\n",
    "        education_entries = re.findall(r'(.+?)\\n(.*?)\\n(\\w+ \\d{4} - \\w+ \\d{4}|N/A - Present|\\w+ \\d{4} - \\w+ \\d{4})\\nGrade: (.*?)\\nActivities and societies: (.*?)\\n', education_text)\n",
    "\n",
    "        for institution, program, date_range, grade, activities in education_entries:\n",
    "            profile_data[\"education\"].append({\n",
    "                \"institution\": institution.strip(),\n",
    "                \"program\": program.strip(),\n",
    "                \"date_range\": date_range.strip(),\n",
    "                \"grade\": grade.strip(),\n",
    "                \"activities\": activities.strip()\n",
    "            })\n",
    "\n",
    "    # Extract Skills\n",
    "    skills_match = re.search(r'Skills:\\n(.*?)\\n\\n', raw_content, re.DOTALL)\n",
    "    if skills_match:\n",
    "        skills_text = skills_match.group(1)\n",
    "        profile_data[\"skills\"] = [skill.strip() for skill in skills_text.split('\\n') if skill.strip()]\n",
    "\n",
    "    return profile_data"
   ]
  },
  {
   "cell_type": "code",
   "execution_count": null,
   "metadata": {},
   "outputs": [],
   "source": [
    "response"
   ]
  },
  {
   "cell_type": "code",
   "execution_count": null,
   "metadata": {},
   "outputs": [],
   "source": [
    "profiles = []\n",
    "\n",
    "for profile in response[\"results\"]:\n",
    "    profile_data = extract_profile_data(profile[\"raw_content\"])\n",
    "    profile_data[\"name\"] = profile[\"title\"]\n",
    "    profile_data[\"url\"] = profile[\"url\"]\n",
    "    profiles.append(profile_data)"
   ]
  },
  {
   "cell_type": "code",
   "execution_count": null,
   "metadata": {},
   "outputs": [],
   "source": [
    "print(response[\"answer\"])"
   ]
  },
  {
   "cell_type": "code",
   "execution_count": null,
   "metadata": {},
   "outputs": [],
   "source": [
    "profiles"
   ]
  },
  {
   "cell_type": "code",
   "execution_count": null,
   "metadata": {},
   "outputs": [],
   "source": []
  }
 ],
 "metadata": {
  "kernelspec": {
   "display_name": "Python 3",
   "language": "python",
   "name": "python3"
  },
  "language_info": {
   "codemirror_mode": {
    "name": "ipython",
    "version": 3
   },
   "file_extension": ".py",
   "mimetype": "text/x-python",
   "name": "python",
   "nbconvert_exporter": "python",
   "pygments_lexer": "ipython3",
   "version": "3.11.11"
  }
 },
 "nbformat": 4,
 "nbformat_minor": 2
}
